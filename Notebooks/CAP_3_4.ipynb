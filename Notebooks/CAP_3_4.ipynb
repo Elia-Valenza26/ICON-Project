{
 "cells": [
  {
   "cell_type": "markdown",
   "metadata": {},
   "source": [
    "# Rappresentazione e Ragionamento Proposizionale\n",
    "## Introduzione\n",
    "\n",
    "Per la trattazione di questo argomento, l'obiettivo fissato è stato quello di **costruire una base di conoscenza in logica proposizionale** che permetta di **modellare un sistema di ragionamento automatico** per determinare le possibilità di incidente in base a determinate condizioni ambientali e regole logiche. L'intento era quello di sviluppare un sistema che, utilizzando **meccanismi di inferenza automatica**, potesse analizzare e dedurre se un incidente potenzialmente grave possa verificarsi in un dato scenario.\n",
    "\n",
    "Abbiamo cercato di costruire una base di conoscenza che prenda in considerazione vari fattori, come **buio**, **pioggia**, **ghiacciato**, **nebbia**, e altre condizioni ambientali, nonché le condizioni superficiali, per determinare se queste possono contribuire alla gravità di un incidente. L'applicazione delle regole logiche definisce quando una serie di condizioni potrebbe portare a un incidente grave.\n",
    "\n",
    "In particolare, l'approccio utilizzato ha permesso di applicare **forward chaining**, **backward chaining**, sfruttando le caratteristiche del linguaggio Prolog per inferire automaticamente nuove informazioni a partire da fatti noti. Questo sistema non solo analizza le condizioni presenti, ma è anche in grado di fare ipotesi su situazioni potenzialmente rischiose, anche in assenza di un dataset esterno specifico.\n",
    "\n",
    "L'obiettivo finale era dunque quello di comprendere come un sistema automatico possa utilizzare la logica proposizionale per valutare la possibilità di un incidente in tempo reale, partendo da condizioni ambientali e superficiali, senza dover fare affidamento su dati esterni complessi.\n"
   ]
  },
  {
   "cell_type": "markdown",
   "metadata": {},
   "source": [
    "## Teoria Della Logica Proposizionale \n",
    "La logica proposizionale si basa su proposizioni atomiche (atomi) che rappresentano enunciati semplici, come \"buio\" o \"pioggia\". Questi atomi possono essere combinati usando connettivi logici come la negazione (-), la congiunzione (∧), la disgiunzione (∨), l'implicazione (→), e l'equivalenza (↔).\n",
    "\n",
    "Nel codice, le proposizioni atomiche sono rappresentate da predicati Prolog come buio, pioggia, ghiacciato, ecc. Le regole logiche sono definite usando la sintassi di Prolog, che permette di esprimere implicazioni e condizioni complesse.\n",
    "\n",
    "# Sintassi e Semantica nel Codice\n",
    "\n",
    "## **Proposizioni Atomiche**:\n",
    "   - Le proposizioni atomiche sono rappresentate da predicati come `buio`, `pioggia`, `ghiacciato`, ecc.\n",
    "   - Questi predicati possono essere veri o falsi, a seconda delle condizioni ambientali.\n",
    "\n",
    "## **Connettivi Logici**:\n",
    "   - **Negazione**: La negazione è rappresentata dal simbolo `\\+` in Prolog. Ad esempio, `\\+ buio` significa \"non buio\".\n",
    "   - **Congiunzione**: La congiunzione è rappresentata dalla virgola `,`. Ad esempio, `buio, pioggia` significa \"buio e pioggia\".\n",
    "   - **Disgiunzione**: La disgiunzione è rappresentata dal punto e virgola `;`. Ad esempio, `buio; pioggia` significa \"buio o pioggia\".\n",
    "   - **Implicazione**: L'implicazione è rappresentata dalla freccia `:-`. Ad esempio, `incidente_grave :- condizione_pericolosa(...)` significa \"incidente_grave se condizione_pericolosa(...)\".\n",
    "\n",
    "## **Regole e Fatti**:\n",
    "   - **Fatti**: Sono proposizioni atomiche che vengono asserite come vere. Ad esempio,  \n",
    "     `superficie(asciutto)` è un fatto che indica che la superficie è asciutta.\n",
    "   - **Regole**: Sono implicazioni che definiscono condizioni complesse. Ad esempio, la regola  \n",
    "     `incidente_grave :- condizione_pericolosa(...)`  \n",
    "     definisce che un incidente grave si verifica se una condizione pericolosa è soddisfatta.\n",
    "\n"
   ]
  },
  {
   "cell_type": "markdown",
   "metadata": {},
   "source": [
    "## Metodi di Inferenza\n",
    "\n",
    "## Forward Chaining\n",
    "\n",
    "Il **forward chaining** (catena in avanti) è una strategia di inferenza **bottom-up** che parte dai **fatti noti** e applica iterativamente le **regole** per dedurre nuovi fatti. Questo metodo è utilizzato nei **sistemi di produzione** e nei **motori inferenziali** per l'**intelligenza artificiale**.\n",
    "\n",
    "In termini pratici, si parte da una **base di fatti iniziali** e si utilizzano le **regole di inferenza** per aggiungere nuove conoscenze alla **base di dati** fino a raggiungere la **conclusione desiderata**.  \n",
    "\n",
    "Il **forward chaining** è particolarmente utile quando vogliamo esplorare **tutte le possibili deduzioni** a partire da informazioni di base.\n"
   ]
  },
  {
   "cell_type": "markdown",
   "metadata": {},
   "source": [
    "```\n",
    "?- assertz(buio), assertz(nebbia), evaluta_condizioni([], Risultato).\n",
    "Risultato = true.\n",
    "```"
   ]
  },
  {
   "cell_type": "markdown",
   "metadata": {},
   "source": [
    "Se i fatti **buio** e **nebbia** vengono asseriti, il sistema deduce che c'è **scarsa_visibilità**, che contribuisce a rendere vero **incidente_grave**.\n"
   ]
  },
  {
   "cell_type": "markdown",
   "metadata": {},
   "source": [
    "## Backward Chaining\n",
    "\n",
    "Il **backward chaining** (catena all'indietro) è una strategia di inferenza **top-down** che parte da un **obiettivo da dimostrare** e cerca di verificare se i **fatti noti** supportano questa conclusione. Questo metodo è molto usato nei **sistemi basati su regole** per la **risoluzione di problemi** e nei **sistemi esperti**.\n",
    "\n",
    "Il processo inizia con un **obiettivo da dimostrare** e cerca di verificare se esistono **fatti** o **regole** che possono derivarlo. Se una **regola** porta alla **conclusione desiderata**, vengono verificate le **condizioni** della regola stessa.  \n",
    "\n",
    "Questo metodo è più **efficiente** quando vogliamo dimostrare una **specifica affermazione** senza esplorare l'intero spazio delle conoscenze.\n"
   ]
  },
  {
   "cell_type": "markdown",
   "metadata": {},
   "source": [
    "```\n",
    "?- incidente_grave.\n",
    "```"
   ]
  },
  {
   "cell_type": "markdown",
   "metadata": {},
   "source": [
    "Il sistema cercherà di provare **incidente_grave** controllando se esistono **fatti** e **regole** che lo rendono vero, attivando la valutazione delle **condizioni pericolose** definite nelle regole.  \n"
   ]
  },
  {
   "cell_type": "markdown",
   "metadata": {
    "vscode": {
     "languageId": "perl"
    }
   },
   "source": [
    "## Esempio di Regole nel Codice\n",
    "1. **Condizioni di illuminazione**:"
   ]
  },
  {
   "cell_type": "markdown",
   "metadata": {},
   "source": [
    "```\n",
    "luce :- \\+ buio.\n",
    "buio_luce_artificiale :- buio, luce_artificiale.\n",
    "```"
   ]
  },
  {
   "cell_type": "markdown",
   "metadata": {},
   "source": [
    "Queste regole definiscono quando il tempo è sereno (se non piove, non grandina, non nevica e non c'è vento forte) e quando c'è nebbia (se c'è vento forte o piove)."
   ]
  },
  {
   "cell_type": "markdown",
   "metadata": {},
   "source": [
    "## **Condizioni Metereologiche**"
   ]
  },
  {
   "cell_type": "markdown",
   "metadata": {},
   "source": [
    "```\n",
    "tempo_sereno :- \\+ (pioggia; grandine; neve; vento_forte).\n",
    "nebbia :- vento_forte; pioggia.\n",
    "```"
   ]
  },
  {
   "cell_type": "markdown",
   "metadata": {},
   "source": [
    "Queste regole definiscono quando il tempo è sereno (se non piove, non grandina, non nevica e non c'è vento forte) e quando c'è nebbia (se c'è vento forte o piove)."
   ]
  },
  {
   "cell_type": "markdown",
   "metadata": {},
   "source": [
    "## **Condizioni Superficiali**:"
   ]
  },
  {
   "cell_type": "markdown",
   "metadata": {},
   "source": [
    "```\n",
    "asciutto :- superficie(asciutto).\n",
    "bagnato :- superficie(bagnato).\n",
    "ghiacciato :- superficie(ghiacciato).\n",
    "```"
   ]
  },
  {
   "cell_type": "markdown",
   "metadata": {},
   "source": [
    "Queste regole definiscono le condizioni della superficie (asciutta, bagnata, ghiacciata)."
   ]
  },
  {
   "cell_type": "markdown",
   "metadata": {},
   "source": [
    "## **Incidente Grave**"
   ]
  },
  {
   "cell_type": "markdown",
   "metadata": {},
   "source": [
    "```\n",
    "incidente_grave :- \n",
    "    condizione_pericolosa([scarsa_visibilita, meteo_estremo, superficie_pericolosa, combinazione_critica]).\n",
    "```"
   ]
  },
  {
   "cell_type": "markdown",
   "metadata": {},
   "source": [
    "Questa regola definisce che un incidente grave si verifica se almeno una delle condizioni pericolose è soddisfatta."
   ]
  },
  {
   "cell_type": "markdown",
   "metadata": {},
   "source": [
    "## Gestione Dinamica Delle Condizioni \n",
    "Il codice utilizza predicati dinamici per gestire le condizioni ambientali. Ad esempio, buio, pioggia, ghiacciato sono predicati dinamici che possono essere modificati durante l'esecuzione del programma. Questo permette di simulare diverse condizioni ambientali e verificare se portano a un incidente grave.\n",
    "\n",
    "## **Inizializzazione**:"
   ]
  },
  {
   "cell_type": "markdown",
   "metadata": {},
   "source": [
    "```\n",
    ":- initialization((\n",
    "    retractall(buio),\n",
    "    retractall(luce_artificiale),\n",
    "    retractall(pioggia),\n",
    "    retractall(grandine),\n",
    "    retractall(neve),\n",
    "    retractall(vento_forte),\n",
    "    retractall(superficie(_)),\n",
    "    retractall(nebbia),\n",
    "    retractall(ghiacciato),\n",
    "    assertz(superficie(asciutto))\n",
    ")).\n",
    "```"
   ]
  },
  {
   "cell_type": "markdown",
   "metadata": {},
   "source": [
    "Questo blocco di codice inizializza le condizioni ambientali, rimuovendo tutte le asserzioni precedenti e impostando la superficie come asciutta."
   ]
  },
  {
   "cell_type": "markdown",
   "metadata": {},
   "source": [
    "## **Gestione delle Condizioni**:"
   ]
  },
  {
   "cell_type": "markdown",
   "metadata": {},
   "source": [
    "```\n",
    "evaluta_condizioni(Condizioni, Risultato) :-\n",
    "    setup_call_cleanup(\n",
    "        apply_conditions(Condizioni, Aggiunte),\n",
    "        (incidente_grave -> Risultato = true ; Risultato = false),\n",
    "        maplist(retract_condition, Aggiunte)\n",
    "    ).\n",
    "```"
   ]
  },
  {
   "cell_type": "markdown",
   "metadata": {},
   "source": [
    "Questo predicato permette di valutare diverse condizioni ambientali e determinare se portano a un incidente grave. Le condizioni vengono applicate temporaneamente e poi rimosse dopo la valutazione."
   ]
  },
  {
   "cell_type": "markdown",
   "metadata": {},
   "source": [
    "## Esempi di Esecuzione"
   ]
  },
  {
   "cell_type": "markdown",
   "metadata": {},
   "source": [
    "```\n",
    "2 ?- evaluta_condizioni([buio, neve, superficie(bagnato), nebbia], Risultato).\n",
    "Risultato = true.\n",
    "```"
   ]
  },
  {
   "cell_type": "markdown",
   "metadata": {},
   "source": [
    "La combinazione di **buio**, **neve**, **superficie(bagnato)** e **nebbia** è estremamente pericolosa, poiché ci sono molteplici fattori che riducono la visibilità e aumentano il rischio di slittamento o incidenti.\n"
   ]
  },
  {
   "cell_type": "markdown",
   "metadata": {},
   "source": [
    "```\n",
    "9 ?- evaluta_condizioni([superficie(bagnato), pioggia], Risultato).\n",
    "Risultato = true.\n",
    "```"
   ]
  },
  {
   "cell_type": "markdown",
   "metadata": {},
   "source": [
    "Anche se la pioggia non è considerata una condizione di meteo pericolosa, il fatto che la **superficie** sia **bagnata** porta a far scattare l'allarme per un incidente grave.\n"
   ]
  },
  {
   "cell_type": "markdown",
   "metadata": {},
   "source": [
    "```\n",
    "10 ?- evaluta_condizioni([buio, superficie(asciutto), \\+ pioggia], Risultato).\n",
    "Risultato = true.\n",
    "```"
   ]
  },
  {
   "cell_type": "markdown",
   "metadata": {},
   "source": [
    "La seguente query afferma che c'è **buio**, una **superficie asciutta** e non c'è la **pioggia**. Per la nostra base di conoscenza, la regola per determinare un incidente grave è già soddisfatta, poiché la presenza di **buio** è sufficiente a scatenare l'allarme.\n"
   ]
  },
  {
   "cell_type": "markdown",
   "metadata": {},
   "source": [
    "```\n",
    "3 ?- evaluta_condizioni([\\+buio, superficie(asciutto), \\+pioggia], Risultato).\n",
    "Risultato = false.\n",
    "```"
   ]
  },
  {
   "cell_type": "markdown",
   "metadata": {},
   "source": [
    "In questa situazione, stiamo dicendo che **non c'è buio**, quindi c'è **luce**, abbiamo una **superficie asciutta** e **non c'è pioggia**, quindi **non c'è rischio di un incidente grave**.\n"
   ]
  },
  {
   "cell_type": "markdown",
   "metadata": {},
   "source": [
    "# RAPPRESENTAZIONE E RAGIONAMENTO RELAZIONE (LOGICA DI PRIMO ORDINE)\n",
    "## Obiettivo\n",
    "\n",
    "Per trattare la classificazione della gravità degli incidenti stradali, abbiamo sviluppato una base di conoscenza utilizzando la logica del primo ordine. Il nostro sistema classifica gli incidenti come **\"gravi\"** o **\"lievi\"** in base a determinate condizioni ambientali e stradali, utilizzando inferenza logica e abduzione per determinare le cause e le condizioni mancanti.\n",
    "\n",
    "L'obiettivo principale è fornire un modello di ragionamento basato su regole logiche, che consenta di interpretare le condizioni di un incidente in modo dinamico, permettendo un'inferenza flessibile e scalabile. Questo approccio consente di adattarsi a nuovi scenari senza la necessità di modificare direttamente la base di conoscenza, migliorando l'efficacia del sistema nel supporto decisionale."
   ]
  },
  {
   "cell_type": "markdown",
   "metadata": {},
   "source": [
    "## Introduzione alla Logica del Primo Ordine\n",
    "\n",
    "La **logica del primo ordine** (FOL, *First-Order Logic*) è un sistema formale che estende la logica proposizionale includendo variabili, quantificatori e relazioni tra oggetti.\n",
    "\n",
    "## Componenti fondamentali\n",
    "\n",
    "- **Simboli di Costante**: rappresentano entità specifiche (es. `\"pioggia\"`, `\"ghiacciata\"`).\n",
    "- **Simboli di Variabile**: rappresentano entità generiche (es. `ID` per identificare un incidente).\n",
    "- **Simboli di Predicato**: esprimono proprietà o relazioni tra entità (es. `illuminazione(ID, buio)`).\n",
    "\n",
    "## Quantificatori\n",
    "\n",
    "- **∀ (per ogni)**: indica una generalizzazione.  \n",
    "- **∃ (esiste)**: afferma che almeno un elemento soddisfa una condizione.\n"
   ]
  },
  {
   "cell_type": "markdown",
   "metadata": {},
   "source": [
    "## Esempi di utilizzo dei quantificatori nella base di conoscenza\n",
    "\n",
    "## Quantificatore Universale(∀)\n"
   ]
  },
  {
   "cell_type": "markdown",
   "metadata": {},
   "source": [
    "```\n",
    "% ∀ID: incidente_grave(ID) se ci sono almeno due condizioni pericolose\n",
    "incidente_grave(ID) :- \n",
    "    almeno_due_condizioni_pericolose(ID, Conditions),\n",
    "    length(Conditions, N),\n",
    "    N >= 2.\n",
    "```"
   ]
  },
  {
   "cell_type": "markdown",
   "metadata": {},
   "source": [
    "Questo implica che per ogni ID incidente, la regola vale universalmente.\n",
    "\n"
   ]
  },
  {
   "cell_type": "markdown",
   "metadata": {},
   "source": [
    "## Quantificatore Esistenziale (∃):"
   ]
  },
  {
   "cell_type": "markdown",
   "metadata": {},
   "source": [
    "```\n",
    "% ∃ID: almeno_due_condizioni_pericolose(ID, Conditions) se esiste un insieme di condizioni pericolose\n",
    "almeno_due_condizioni_pericolose(ID, ConditionsWithDetails) :-\n",
    "    findall(Condition-Descr, (\n",
    "        (scarsa_visibilita(ID, Descr), Condition = 'Scarsa visibilità');\n",
    "        (meteo_estremo(ID, Descr), Condition = 'Meteo estremo');\n",
    "        (superficie_pericolosa(ID, Descr), Condition = 'Superficie pericolosa');\n",
    "        (combinazione_critica(ID, Descr), Condition = 'Combinazione critica')\n",
    "    ), ConditionsWithDetails).\n",
    "```"
   ]
  },
  {
   "cell_type": "markdown",
   "metadata": {},
   "source": [
    "Qui il predicato **findall** dimostra che esiste almeno un insieme di condizioni pericolose per un incidente."
   ]
  },
  {
   "cell_type": "markdown",
   "metadata": {},
   "source": [
    "## Completamento di Clark\n",
    "Il **Completamento di Clark è una tecnica per trasformare una base di conoscenza in una forma chiusa, in cui si assume che tutto ciò che non è noto come vero sia falso (chiusura del mondo). Questo principio è utile per limitare l'inferenza logica e garantire una maggiore efficienza computazionale.\n",
    "\n",
    "In termini formali, per ogni predicato **P(X)** nella base di conoscenza, il completamento di Clark afferma:\n"
   ]
  },
  {
   "cell_type": "markdown",
   "metadata": {},
   "source": [
    "```\n",
    "P(X) :- Condizione1(X).\n",
    "P(X) :- Condizione2(X).\n",
    "```\n"
   ]
  },
  {
   "cell_type": "markdown",
   "metadata": {},
   "source": [
    "è equivalente a "
   ]
  },
  {
   "cell_type": "markdown",
   "metadata": {},
   "source": [
    "```\n",
    "P(X) <-> (Condizione1(X) ∨ Condizione2(X)).\n",
    "```"
   ]
  },
  {
   "cell_type": "markdown",
   "metadata": {},
   "source": [
    "## Applicazione del Completamento di Clark nel nostro sistema.\n",
    "Nella nostra base di conoscenza, il completamento di Clark viene applicato per definire relazioni chiuse tra le condizioni di pericolosità e la gravità dell’incidente.\n",
    "\n"
   ]
  },
  {
   "cell_type": "markdown",
   "metadata": {},
   "source": [
    "```\n",
    "% ∀ID: scarsa_visibilita(ID, Descrizione) ↔ (illuminazione(ID, buio) ∧ ¬illuminazione(ID, artificiale)) ∨ condizione_meteo(ID, nebbia)\n",
    "scarsa_visibilita(ID, Descrizione) :-\n",
    "    (illuminazione(ID, buio), \\+ illuminazione(ID, artificiale)) ->\n",
    "        Descrizione = 'Buio senza illuminazione artificiale'\n",
    "    ; (condizione_meteo(ID, nebbia)) ->\n",
    "        Descrizione = 'Presenza di nebbia'\n",
    "    ; fail.\n",
    "```    \n",
    "    \n",
    "    "
   ]
  },
  {
   "cell_type": "markdown",
   "metadata": {},
   "source": [
    "Questa regola rappresenta il **completamento di Clark**, assumendo che l'unico modo per avere scarsa visibilità sia attraverso buio senza **illuminazione** o **nebbia**."
   ]
  },
  {
   "cell_type": "markdown",
   "metadata": {},
   "source": [
    "## ABDUZIONE\n",
    "**L'abduzione** è un processo inferenziale che consente di ipotizzare nuove informazioni per spiegare un fatto osservato. Nel nostro sistema, l'abduzione viene utilizzata per dedurre condizioni mancanti che potrebbero giustificare la gravità di un incidente.\n",
    "\n",
    "Esempio di abduzione nel nostro sistema:"
   ]
  },
  {
   "cell_type": "markdown",
   "metadata": {},
   "source": [
    "```\n",
    "abduzione_da_meteo(ID) :-\n",
    "    (condizione_meteo(ID, pioggia), \\+ superficie_stradale(ID, _) ->\n",
    "        assertz(superficie_stradale(ID, bagnata)),\n",
    "        format('Abduzione: Dedotta superficie bagnata per pioggia~n')\n",
    "    ; true).\n",
    "```"
   ]
  },
  {
   "cell_type": "markdown",
   "metadata": {},
   "source": [
    "Se piove e non è specificata la condizione della strada, il sistema deduce che la superficie è bagnata.\n",
    "\n",
    "L'abduzione aiuta a colmare lacune nella conoscenza senza richiedere informazioni complete, migliorando l'accuratezza del sistema."
   ]
  },
  {
   "cell_type": "markdown",
   "metadata": {},
   "source": [
    "## Forward Chaining\n",
    "\n",
    "Il **Forward Chaining** è un approccio in cui il sistema parte dai dati iniziali (fatti noti) e applica le regole per dedurre nuove informazioni. L'idea è di partire dalle informazioni già disponibili e applicare le regole fino a raggiungere una conclusione.\n",
    "\n",
    "Nel codice, il Forward Chaining è applicato nel contesto dell'abduzione e della deduzione delle informazioni mancanti. Ad esempio, se la condizione meteorologica è pioggia ma la superficie stradale non è definita, il sistema deduce che la superficie è bagnata.\n",
    "\n",
    "```\n",
    "abduzione_da_meteo(ID) :-\n",
    "    (condizione_meteo(ID, pioggia),\n",
    "     \\+ superficie_stradale(ID, _) -> \n",
    "        assertz(superficie_stradale(ID, bagnata)),\n",
    "        format('Abduzione: Dedotta superficie bagnata per presenza di pioggia~n')\n",
    "    ; true).\n",
    "```\n",
    "\n",
    "In questo caso, partendo dalla condizione meteorologica (pioggia), il sistema deduce che la superficie deve essere bagnata. Questo è un esempio di Forward Chaining, poiché si parte dai fatti (pioggia) per dedurre nuove informazioni (superficie bagnata).\n",
    "    \n",
    "\n"
   ]
  },
  {
   "cell_type": "markdown",
   "metadata": {},
   "source": [
    "## Backward Chaining\n",
    "\n",
    "Il **Backward Chaining** è un approccio che parte dalla conclusione desiderata e cerca di risalire, applicando le regole a ritroso, per verificare quali fatti devono essere veri affinché quella conclusione sia valida.\n",
    "\n",
    "Nel codice, il Backward Chaining viene utilizzato in particolare nella valutazione dell'incidente. Il sistema parte dall'obiettivo di determinare la gravità dell'incidente (grave o lieve) e cerca di risalire per verificare se le condizioni pericolose (come scarsa visibilità, meteo estremo, superficie pericolosa) sono soddisfatte.\n",
    "\n",
    "**Esempio nel codice:**\n",
    "\n",
    "```\n",
    "incidente_grave(ID) :- \n",
    "    almeno_due_condizioni_pericolose(ID, Conditions),\n",
    "    length(Conditions, N),\n",
    "    N >= 2.\n",
    "```\n",
    "In questo caso, il sistema sta tentando di risalire alla conclusione (incidente grave) e applica le regole per verificare se esistono almeno due condizioni pericolose. Se le condizioni pericolose sono soddisfatte, l'incidente viene classificato come grave. Qui, il Backward Chaining è evidente perché il sistema parte dalla conclusione (grave) e cerca di verificare se le precondizioni (due condizioni pericolose) sono soddisfatte.\n"
   ]
  },
  {
   "cell_type": "markdown",
   "metadata": {},
   "source": [
    "## Integrazione di Forward e Backward Chaining\n",
    "\n",
    "Il sistema integra sia il **Forward Chaining** che il **Backward Chaining** per ottenere una logica di deduzione potente e flessibile. Le regole di abduzione (Forward Chaining) vengono utilizzate per dedurre automaticamente le informazioni mancanti, mentre le regole di valutazione dell'incidente (Backward Chaining) vengono utilizzate per determinare la gravità dell'incidente sulla base delle condizioni pericolose identificate.\n"
   ]
  },
  {
   "cell_type": "markdown",
   "metadata": {},
   "source": [
    "## Esecuzione del sistema ed esempi di test\n",
    "\n",
    "Per eseguire il sistema, è necessario avere un interprete Prolog installato sul proprio computer. Seguire i passaggi seguenti:\n",
    "\n",
    "1. **Scaricare e installare Prolog**\n",
    "   - Se si utilizza SWI-Prolog, è possibile scaricarlo dal sito ufficiale: **https://www.swi-prolog.org**\n",
    "2. **Aprire il terminale e caricare il file della base  di conoscenza** \n",
    "   - Posizionarsi nella directory dove si trova il file **cap5.pl**\n",
    "   - Eseguire il comando:\n",
    "     **swipl**\n",
    "    - **All'interno dell'interprete,caricare il file con:\n",
    "      [cap5].\n",
    " 3. **Eseguire delle query per eseguire il sistema**\n",
    "    assertz(condizione_meteo(id1, pioggia)).\n",
    "    assertz(condizione_meteo(id2, pioggia)).\n",
    "    così aggiungiamo i fatti alla kb per testare usiamo:\n",
    "    **analizza_incidente(1).**"
   ]
  },
  {
   "cell_type": "markdown",
   "metadata": {},
   "source": [
    "**Carichiamo il file.pl nel terminale**\n",
    "\n",
    "\n",
    "```\n",
    "1 ?- [cap5].\n",
    "true.\n",
    "```\n"
   ]
  },
  {
   "cell_type": "markdown",
   "metadata": {},
   "source": [
    "**Inseriamo delle condizioni e verifichiamo**\n",
    "\n",
    "```\n",
    "assertz(illuminazione(1, buio)),\n",
    "assertz(condizione_meteo(1, neve)),\n",
    "assertz(superficie_stradale(1, ghiacciata)),\n",
    "\n",
    "\n",
    "analizza_incidente(1).\n",
    "```\n"
   ]
  },
  {
   "cell_type": "markdown",
   "metadata": {},
   "source": [
    "**RISULTATO ATTESO**\n",
    "\n",
    "\n",
    "```\n",
    "=== Analisi dell'incidente 1 ===\n",
    "Condizioni dell'incidente 1:\n",
    "- Meteo: neve\n",
    "- Illuminazione: buio\n",
    "- Superficie: ghiacciata\n",
    "- Gravità : non ancora valutato\n",
    "\n",
    "Condizioni dopo abduzione:\n",
    "Condizioni dell'incidente 1:\n",
    "- Meteo: neve\n",
    "- Illuminazione: buio\n",
    "- Superficie: ghiacciata\n",
    "- Gravità : non ancora valutato\n",
    "Rilevate 4 condizioni pericolose:\n",
    "- Scarsa visibilitÃ : Buio senza illuminazione artificiale\n",
    "- Meteo estremo: Presenza di neve\n",
    "- Superficie pericolosa: Strada ghiacciata\n",
    "- Combinazione critica: Superficie ghiacciata con precipitazioni\n",
    "\n",
    "CONCLUSIONE: Incidente classificato come GRAVE\n",
    "true.\n",
    "```"
   ]
  },
  {
   "cell_type": "markdown",
   "metadata": {},
   "source": [
    "**CASO 2**:  \n",
    "- **Condizione di illuminazione**: Buio  \n",
    "- **Condizioni di meteo**: Nebbia  \n",
    "- **Superficie**: Umida  \n",
    "\n",
    "**Esito atteso**: Incidente grave \n",
    "\n",
    "```\n",
    "assertz(illuminazione(2, buio)),\n",
    "assertz(condizione_meteo(2, nebbia)),\n",
    "assertz(superficie_stradale(2, umida)),\n",
    "\n",
    "\n",
    "analizza_incidente(2).\n",
    "```\n",
    "\n",
    "\n",
    "\n",
    "\n",
    "\n"
   ]
  },
  {
   "cell_type": "markdown",
   "metadata": {},
   "source": [
    "**RISULTATO ATTESO**\n",
    "```\n",
    "=== Analisi dell'incidente 2 ===\n",
    "Condizioni dell'incidente 2:\n",
    "- Meteo: nebbia\n",
    "- Illuminazione: buio\n",
    "- Superficie: umida\n",
    "- GravitÃ : non ancora valutato\n",
    "\n",
    "Condizioni dopo abduzione:\n",
    "Condizioni dell'incidente 2:\n",
    "- Meteo: nebbia\n",
    "- Illuminazione: buio\n",
    "- Superficie: umida\n",
    "- GravitÃ : non ancora valutato\n",
    "Rilevate 4 condizioni pericolose:\n",
    "- Scarsa visibilitÃ : Buio senza illuminazione artificiale\n",
    "- Meteo estremo: Presenza di nebbia densa\n",
    "- Superficie pericolosa: Strada umida con nebbia\n",
    "- Combinazione critica: Buio con nebbia\n",
    "\n",
    "CONCLUSIONE: Incidente classificato come GRAVE\n",
    "true.\n",
    "```\n"
   ]
  },
  {
   "cell_type": "markdown",
   "metadata": {},
   "source": [
    "**Test 3**:  \n",
    "- **Condizione meteo**: Pioggia  \n",
    "\n",
    "**Esito atteso**: Il sistema di abduzione riesce a capire dalla condizione del meteo che la superficie potrebbe essere bagnata.\n",
    "\n"
   ]
  },
  {
   "cell_type": "markdown",
   "metadata": {},
   "source": [
    "**Esito atteso**:  \n",
    "- La superficie bagnata, combinata con la pioggia, è una condizione **pericolosa**.  \n",
    "- L'incidente è classificato come **lieve**, in quanto c'è solo una condizione pericolosa.\n",
    "\n",
    "\n"
   ]
  },
  {
   "cell_type": "markdown",
   "metadata": {},
   "source": [
    "**OUTPUT**\n",
    "```\n",
    "=== Analisi dell'incidente 3 ===\n",
    "Condizioni dell'incidente 3:\n",
    "- Meteo: pioggia\n",
    "- Illuminazione: non specificato\n",
    "- Superficie: non specificato\n",
    "- GravitÃ : non ancora valutato\n",
    "Abduzione: Dedotta superficie bagnata per presenza di pioggia\n",
    "\n",
    "Condizioni dopo abduzione:\n",
    "Condizioni dell'incidente 3:\n",
    "- Meteo: pioggia\n",
    "- Illuminazione: non specificato\n",
    "- Superficie: bagnata\n",
    "- GravitÃ : non ancora valutato\n",
    "Rilevate 1 condizioni pericolose:\n",
    "- Superficie pericolosa: Strada bagnata con pioggia\n",
    "\n",
    "CONCLUSIONE: Incidente classificato come LIEVE\n",
    "true.\n",
    "```"
   ]
  },
  {
   "cell_type": "markdown",
   "metadata": {},
   "source": [
    "## Conclusioni e Differenze con la Logica Proposizionale\n",
    "\n",
    "La **logica del primo ordine** offre vantaggi significativi rispetto alla **logica proposizionale**:\n",
    "\n",
    "- **Espressività Maggiore**: consente di definire relazioni tra oggetti e proprietà dinamiche.\n",
    "- **Generalizzazione**: le regole possono essere applicate a un numero infinito di situazioni.\n",
    "- **Inferenza più potente**: grazie all'uso di quantificatori e variabili.\n",
    "\n",
    "# Possibili Estensioni\n",
    "\n",
    "- **Integrazione con Ontologie** (SSN/SOSA, SUMO, TRANS-Model) per arricchire la conoscenza del sistema.\n",
    "- **Applicazione del Machine Learning** per migliorare la classificazione degli incidenti.\n"
   ]
  }
 ],
 "metadata": {
  "kernelspec": {
   "display_name": "Python 3",
   "language": "python",
   "name": "python3"
  },
  "language_info": {
   "name": "python",
   "version": "3.13.1"
  }
 },
 "nbformat": 4,
 "nbformat_minor": 2
}

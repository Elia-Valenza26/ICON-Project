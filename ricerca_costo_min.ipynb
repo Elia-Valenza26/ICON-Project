{
 "cells": [
  {
   "cell_type": "markdown",
   "metadata": {},
   "source": [
    "# RICERCA A COSTO MINIMO"
   ]
  },
  {
   "cell_type": "markdown",
   "metadata": {},
   "source": [
    "### Librerie utilizzate"
   ]
  },
  {
   "cell_type": "code",
   "execution_count": 1,
   "metadata": {},
   "outputs": [],
   "source": [
    "import osmnx as ox\n",
    "import folium\n",
    "import networkx as nx\n",
    "import matplotlib.pyplot as plt\n",
    "import pandas as pd\n",
    "import heapq\n",
    "import time\n",
    "import sys\n",
    "from geopy.distance import geodesic\n"
   ]
  },
  {
   "cell_type": "markdown",
   "metadata": {},
   "source": [
    "# LcFS - Lowest cost-first Search"
   ]
  },
  {
   "cell_type": "code",
   "execution_count": 7,
   "metadata": {},
   "outputs": [
    {
     "name": "stdout",
     "output_type": "stream",
     "text": [
      "Numero totale di percorsi esplorati: 6239\n",
      "Tempo di esecuzione: 0.0193 secondi\n",
      "Memoria utilizzata: 205232 byte\n",
      "Profondità massima raggiunta: 129\n",
      "\n",
      "Percorso con il minor numero di incidenti trovato: [270659688, 270388628, 322548994, 322548996, 12083787147, 569212252, 3860917204, 3841272949, 3860940020, 330076413, 279650482, 1483634369, 1483634284, 279655605, 280884748, 279380962, 339607009, 279655525, 10680697917, 316572227, 10680697906, 279655521, 9602691583, 1014703348, 1249973250, 4395827572, 5395447618, 5395447592, 5395448236, 5395447590, 330932109, 1459966804, 298502133, 329994613, 330003439, 1481415203]\n",
      "Numero totale di incidenti lungo il percorso: 123\n"
     ]
    }
   ],
   "source": [
    "import heapq\n",
    "import time\n",
    "import sys\n",
    "import osmnx as ox\n",
    "\n",
    "def lowest_cost_first_search(graph, start, goal):\n",
    "    \"\"\"Implementa la ricerca Lowest-Cost-First basata sul numero di incidenti, restituendo tutti i percorsi esplorati.\"\"\"\n",
    "    \n",
    "    priority_queue = [(0, start, [start])]  # (costo cumulativo, nodo attuale, percorso)\n",
    "    visited = {}  # Dizionario per memorizzare il miglior costo trovato per ciascun nodo\n",
    "    explored_paths = []  # Lista dei percorsi esplorati\n",
    "    \n",
    "    start_time = time.time()\n",
    "    memory_before = sys.getsizeof(priority_queue) + sys.getsizeof(visited) + sys.getsizeof(explored_paths)\n",
    "    max_depth = 0\n",
    "    \n",
    "    while priority_queue:\n",
    "        cost, node, path = heapq.heappop(priority_queue)  # Estrai il nodo con il minor costo\n",
    "        explored_paths.append((path, cost))  # Memorizza il percorso esplorato\n",
    "        max_depth = max(max_depth, len(path) - 1)\n",
    "        \n",
    "        if node == goal:\n",
    "            execution_time = time.time() - start_time\n",
    "            memory_after = sys.getsizeof(priority_queue) + sys.getsizeof(visited) + sys.getsizeof(explored_paths)\n",
    "            memory_used = memory_after - memory_before\n",
    "            return explored_paths, path, cost, len(explored_paths), execution_time, memory_used, max_depth\n",
    "        \n",
    "        if node in visited and cost >= visited[node]:\n",
    "            continue  # Se il nodo è già stato visitato con un costo inferiore, lo ignoriamo\n",
    "        \n",
    "        visited[node] = cost  # Memorizza il costo minimo per raggiungere questo nodo\n",
    "        \n",
    "        for neighbor in graph.neighbors(node):\n",
    "            edge_data = graph.get_edge_data(node, neighbor)\n",
    "            \n",
    "            # Gestione di archi multipli tra due nodi\n",
    "            if isinstance(edge_data, dict):\n",
    "                edge_data = min(edge_data.values(), key=lambda d: d.get(\"incidenti\", float('inf')))\n",
    "            \n",
    "            edge_cost = int(edge_data.get(\"incidenti\", 0))  # Converte il valore in intero\n",
    "            new_cost = cost + edge_cost\n",
    "            heapq.heappush(priority_queue, (new_cost, neighbor, path + [neighbor]))\n",
    "    \n",
    "    execution_time = time.time() - start_time\n",
    "    memory_after = sys.getsizeof(priority_queue) + sys.getsizeof(visited) + sys.getsizeof(explored_paths)\n",
    "    memory_used = memory_after - memory_before\n",
    "    return explored_paths, None, float('inf'), len(explored_paths), execution_time, memory_used, max_depth \n",
    "\n",
    "# Caricare il grafo con il numero di incidenti sugli archi\n",
    "G = ox.load_graphml(\"rete_bari_incidenti.graphml\")\n",
    "\n",
    "partenza = 270659688\n",
    "arrivo = 1481415203\n",
    "\n",
    "# Eseguire la ricerca Lowest-Cost-First basata sugli incidenti\n",
    "explored_paths, shortest_path, min_incidents, num_explored, exec_time, memory_used, max_depth = lowest_cost_first_search(G, partenza, arrivo)\n",
    "\n",
    "print(f\"Numero totale di percorsi esplorati: {num_explored}\")\n",
    "print(f\"Tempo di esecuzione: {exec_time:.4f} secondi\")\n",
    "print(f\"Memoria utilizzata: {memory_used} byte\")\n",
    "print(f\"Profondità massima raggiunta: {max_depth}\")\n",
    "\n",
    "if shortest_path:\n",
    "    print(f\"\\nPercorso con il minor numero di incidenti trovato: {shortest_path}\")\n",
    "    print(f\"Numero totale di incidenti lungo il percorso: {min_incidents}\")\n",
    "else:\n",
    "    print(\"Nessun percorso trovato.\")\n",
    "\n",
    "#RISULTATI OTTENUTI\n",
    "# Numero totale di percorsi esplorati: 6239\n",
    "# Tempo di esecuzione: 0.0193 secondi\n",
    "# Memoria utilizzata: 205232 byte\n",
    "# Profondità massima raggiunta: 129\n",
    "\n",
    "# Percorso con il minor numero di incidenti trovato: [270659688, 270388628, 322548994, 322548996, 12083787147, 569212252, 3860917204, 3841272949, 3860940020, 330076413, 279650482, 1483634369, 1483634284, 279655605, 280884748, 279380962, 339607009, 279655525, 10680697917, 316572227, 10680697906, 279655521, 9602691583, 1014703348, 1249973250, 4395827572, 5395447618, 5395447592, 5395448236, 5395447590, 330932109, 1459966804, 298502133, 329994613, 330003439, 1481415203]\n",
    "# Numero totale di incidenti lungo il percorso: 123"
   ]
  },
  {
   "cell_type": "markdown",
   "metadata": {},
   "source": [
    "# MAPPATURA DEI PERCORSI "
   ]
  },
  {
   "cell_type": "code",
   "execution_count": 8,
   "metadata": {},
   "outputs": [],
   "source": [
    "def plot_paths_on_map(graph, shortest_path, explored_paths, start, goal):\n",
    "    \"\"\"Visualizza tutti i percorsi esplorati e il percorso più breve sulla mappa.\"\"\"\n",
    "    nodes = ox.graph_to_gdfs(graph, nodes=True, edges=False)\n",
    "    center = (nodes.loc[start].geometry.y, nodes.loc[start].geometry.x)\n",
    "    \n",
    "    mappa = folium.Map(location=center, zoom_start=13)\n",
    "    \n",
    "    # Disegnare tutti i percorsi esplorati in blu\n",
    "    for path, _ in explored_paths:\n",
    "        path_coords = [(nodes.loc[node].geometry.y, nodes.loc[node].geometry.x) for node in path]\n",
    "        folium.PolyLine(path_coords, color=\"blue\", weight=2, opacity=0.5).add_to(mappa)\n",
    "    \n",
    "    # Disegnare il percorso più breve in rosso sopra il blu\n",
    "    if shortest_path:\n",
    "        path_coords = [(nodes.loc[node].geometry.y, nodes.loc[node].geometry.x) for node in shortest_path]\n",
    "        folium.PolyLine(path_coords, color=\"red\", weight=6, opacity=0.9).add_to(mappa)\n",
    "    \n",
    "    # Aggiungere marker per il punto di partenza e di arrivo\n",
    "    folium.Marker(\n",
    "        location=(nodes.loc[start].geometry.y, nodes.loc[start].geometry.x),\n",
    "        popup=\"Partenza\",\n",
    "        icon=folium.Icon(color=\"green\", icon=\"play\")\n",
    "    ).add_to(mappa)\n",
    "    \n",
    "    folium.Marker(\n",
    "        location=(nodes.loc[goal].geometry.y, nodes.loc[goal].geometry.x),\n",
    "        popup=\"Arrivo\",\n",
    "        icon=folium.Icon(color=\"red\", icon=\"flag\")\n",
    "    ).add_to(mappa)\n",
    "    \n",
    "    return mappa\n",
    "\n",
    "mappa = plot_paths_on_map(G, shortest_path, explored_paths, partenza, arrivo)\n",
    "mappa.save(\"percorsoLcFS.html\")"
   ]
  }
 ],
 "metadata": {
  "kernelspec": {
   "display_name": "fan_env",
   "language": "python",
   "name": "python3"
  },
  "language_info": {
   "codemirror_mode": {
    "name": "ipython",
    "version": 3
   },
   "file_extension": ".py",
   "mimetype": "text/x-python",
   "name": "python",
   "nbconvert_exporter": "python",
   "pygments_lexer": "ipython3",
   "version": "3.12.5"
  }
 },
 "nbformat": 4,
 "nbformat_minor": 2
}
